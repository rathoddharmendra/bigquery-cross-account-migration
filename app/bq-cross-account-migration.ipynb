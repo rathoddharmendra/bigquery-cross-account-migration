{
 "cells": [
  {
   "cell_type": "code",
   "execution_count": 7,
   "id": "f7730bd0-c776-46de-a9b8-33bda8df9818",
   "metadata": {},
   "outputs": [
    {
     "name": "stdout",
     "output_type": "stream",
     "text": [
      "Requirement already satisfied: pip in /Library/Frameworks/Python.framework/Versions/3.13/lib/python3.13/site-packages (25.2)\n",
      "\u001b[31mERROR: Could not find a version that satisfies the requirement install (from versions: none)\u001b[0m\u001b[31m\n",
      "\u001b[0m\u001b[31mERROR: No matching distribution found for install\u001b[0m\u001b[31m\n",
      "\u001b[0m"
     ]
    }
   ],
   "source": [
    "# install requirements (one-time)\n",
    "#!pip install google-cloud-bigquery google-cloud-storage tqdm\n",
    "!pip install pip install google-auth"
   ]
  },
  {
   "cell_type": "markdown",
   "id": "7fffe115-e4fe-4a0b-a718-ff74c0707300",
   "metadata": {},
   "source": [
    "## Read Configurations"
   ]
  },
  {
   "cell_type": "markdown",
   "id": "c179db0b-2475-4748-b2ca-93ea1f92bf37",
   "metadata": {},
   "source": [
    "## Define Imports and Functions"
   ]
  },
  {
   "cell_type": "code",
   "execution_count": 5,
   "id": "f3bdc9aa-4bc8-4cd5-8870-cbae71231cef",
   "metadata": {},
   "outputs": [
    {
     "ename": "ModuleNotFoundError",
     "evalue": "No module named 'google'",
     "output_type": "error",
     "traceback": [
      "\u001b[31m---------------------------------------------------------------------------\u001b[39m",
      "\u001b[31mModuleNotFoundError\u001b[39m                       Traceback (most recent call last)",
      "\u001b[36mCell\u001b[39m\u001b[36m \u001b[39m\u001b[32mIn[5]\u001b[39m\u001b[32m, line 8\u001b[39m\n\u001b[32m      4\u001b[39m \u001b[38;5;28;01mimport\u001b[39;00m\u001b[38;5;250m \u001b[39m\u001b[34;01mtime\u001b[39;00m\n\u001b[32m      5\u001b[39m \u001b[38;5;28;01mfrom\u001b[39;00m\u001b[38;5;250m \u001b[39m\u001b[34;01mtyping\u001b[39;00m\u001b[38;5;250m \u001b[39m\u001b[38;5;28;01mimport\u001b[39;00m List, Optional, Tuple\n\u001b[32m----> \u001b[39m\u001b[32m8\u001b[39m \u001b[38;5;28;01mfrom\u001b[39;00m\u001b[38;5;250m \u001b[39m\u001b[34;01mgoogle\u001b[39;00m\u001b[34;01m.\u001b[39;00m\u001b[34;01moauth2\u001b[39;00m\u001b[38;5;250m \u001b[39m\u001b[38;5;28;01mimport\u001b[39;00m service_account\n\u001b[32m      9\u001b[39m \u001b[38;5;28;01mfrom\u001b[39;00m\u001b[38;5;250m \u001b[39m\u001b[34;01mgoogle\u001b[39;00m\u001b[34;01m.\u001b[39;00m\u001b[34;01mcloud\u001b[39;00m\u001b[38;5;250m \u001b[39m\u001b[38;5;28;01mimport\u001b[39;00m bigquery\n\u001b[32m     10\u001b[39m \u001b[38;5;28;01mfrom\u001b[39;00m\u001b[38;5;250m \u001b[39m\u001b[34;01mgoogle\u001b[39;00m\u001b[34;01m.\u001b[39;00m\u001b[34;01mcloud\u001b[39;00m\u001b[38;5;250m \u001b[39m\u001b[38;5;28;01mimport\u001b[39;00m storage\n",
      "\u001b[31mModuleNotFoundError\u001b[39m: No module named 'google'"
     ]
    }
   ],
   "source": [
    "import os\n",
    "import random\n",
    "import string\n",
    "import time\n",
    "from typing import List, Optional, Tuple\n",
    "\n",
    "\n",
    "from google.oauth2 import service_account\n",
    "from google.cloud import bigquery\n",
    "from google.cloud import storage\n",
    "from google.api_core.exceptions import NotFound, Forbidden, GoogleAPICallError\n",
    "from tqdm import tqdm"
   ]
  },
  {
   "cell_type": "code",
   "execution_count": 4,
   "id": "68f13c57-da06-49be-a3f7-5c90ebdc21cb",
   "metadata": {},
   "outputs": [],
   "source": [
    "# Creates new name with 2 number suffix\n",
    "def _make_random_suffix(n=2):\n",
    "    return ''.join(random.choices('0123456789', k=n))"
   ]
  },
  {
   "cell_type": "code",
   "execution_count": null,
   "id": "b4361b7b-ff77-4b3d-8594-208fbd5a9129",
   "metadata": {},
   "outputs": [],
   "source": [
    "def _get_source_client_from_key(key_path: str) -> bigquery.Client:\n",
    "    creds = service_account.Credentials.from_service_account_file(key_path)\n",
    "    return bigquery.Client(credentials=creds, project=creds.project_id)"
   ]
  }
 ],
 "metadata": {
  "kernelspec": {
   "display_name": "Python (dsa)",
   "language": "python",
   "name": "dsa-ipykernel"
  },
  "language_info": {
   "codemirror_mode": {
    "name": "ipython",
    "version": 3
   },
   "file_extension": ".py",
   "mimetype": "text/x-python",
   "name": "python",
   "nbconvert_exporter": "python",
   "pygments_lexer": "ipython3",
   "version": "3.13.2"
  }
 },
 "nbformat": 4,
 "nbformat_minor": 5
}
