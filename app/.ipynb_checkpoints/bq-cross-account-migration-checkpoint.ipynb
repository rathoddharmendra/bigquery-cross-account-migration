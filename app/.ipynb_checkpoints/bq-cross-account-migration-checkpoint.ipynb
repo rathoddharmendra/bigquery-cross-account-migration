{
 "cells": [
  {
   "cell_type": "code",
   "execution_count": 1,
   "id": "f7730bd0-c776-46de-a9b8-33bda8df9818",
   "metadata": {},
   "outputs": [],
   "source": [
    "# install requirements (one-time)\n",
    "#!pip install google-cloud-bigquery google-cloud-storage tqdm"
   ]
  },
  {
   "cell_type": "code",
   "execution_count": null,
   "id": "81cada4b-0dd9-4a0c-9478-31273a57359a",
   "metadata": {},
   "outputs": [],
   "source": []
  }
 ],
 "metadata": {
  "kernelspec": {
   "display_name": "Python (dsa)",
   "language": "python",
   "name": "dsa-ipykernel"
  },
  "language_info": {
   "codemirror_mode": {
    "name": "ipython",
    "version": 3
   },
   "file_extension": ".py",
   "mimetype": "text/x-python",
   "name": "python",
   "nbconvert_exporter": "python",
   "pygments_lexer": "ipython3",
   "version": "3.13.2"
  }
 },
 "nbformat": 4,
 "nbformat_minor": 5
}
