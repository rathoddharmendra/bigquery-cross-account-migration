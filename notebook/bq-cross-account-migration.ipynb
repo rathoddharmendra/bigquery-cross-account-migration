{
 "cells": [
  {
   "cell_type": "code",
   "execution_count": 7,
   "id": "f7730bd0-c776-46de-a9b8-33bda8df9818",
   "metadata": {},
   "outputs": [
    {
     "name": "stdout",
     "output_type": "stream",
     "text": [
      "Requirement already satisfied: pip in /Library/Frameworks/Python.framework/Versions/3.13/lib/python3.13/site-packages (25.2)\n",
      "\u001b[31mERROR: Could not find a version that satisfies the requirement install (from versions: none)\u001b[0m\u001b[31m\n",
      "\u001b[0m\u001b[31mERROR: No matching distribution found for install\u001b[0m\u001b[31m\n",
      "\u001b[0m"
     ]
    }
   ],
   "source": [
    "# install requirements (one-time)\n",
    "#!pip install google-cloud-bigquery google-cloud-storage tqdm\n",
    "!pip install pip install google-auth"
   ]
  },
  {
   "cell_type": "markdown",
   "id": "7fffe115-e4fe-4a0b-a718-ff74c0707300",
   "metadata": {},
   "source": [
    "## Read Configurations"
   ]
  },
  {
   "cell_type": "markdown",
   "id": "c179db0b-2475-4748-b2ca-93ea1f92bf37",
   "metadata": {},
   "source": [
    "## Define Imports and Functions"
   ]
  },
  {
   "cell_type": "code",
   "execution_count": 19,
   "id": "f3bdc9aa-4bc8-4cd5-8870-cbae71231cef",
   "metadata": {},
   "outputs": [],
   "source": [
    "import os\n",
    "import random\n",
    "import string\n",
    "import time\n",
    "from typing import List, Optional, Tuple\n",
    "\n",
    "\n",
    "from google.oauth2 import service_account\n",
    "from google.cloud import bigquery\n",
    "from google.cloud import storage\n",
    "from google.api_core.exceptions import NotFound, Forbidden, GoogleAPICallError\n",
    "from tqdm import tqdm"
   ]
  },
  {
   "cell_type": "code",
   "execution_count": 20,
   "id": "68f13c57-da06-49be-a3f7-5c90ebdc21cb",
   "metadata": {},
   "outputs": [],
   "source": [
    "# Creates new name with 2 number suffix\n",
    "def _make_random_suffix(n=2):\n",
    "    return ''.join(random.choices('0123456789', k=n))"
   ]
  },
  {
   "cell_type": "code",
   "execution_count": 21,
   "id": "b4361b7b-ff77-4b3d-8594-208fbd5a9129",
   "metadata": {},
   "outputs": [],
   "source": [
    "def _get_source_client_from_key(key_path: str) -> bigquery.Client:\n",
    "    creds = service_account.Credentials.from_service_account_file(key_path)\n",
    "    return bigquery.Client(credentials=creds, project=creds.project_id)"
   ]
  },
  {
   "cell_type": "code",
   "execution_count": 22,
   "id": "ef28d45c-a82b-46a7-ba3f-5620b8339e4a",
   "metadata": {},
   "outputs": [],
   "source": [
    "src_creds = service_account.Credentials.from_service_account_file(\"../secrets/darry-r26.json\")"
   ]
  },
  {
   "cell_type": "code",
   "execution_count": 39,
   "id": "e3402777-43e7-41a6-bb99-7bc0f75ff649",
   "metadata": {},
   "outputs": [],
   "source": [
    "src_client = bigquery.Client(credentials=src_creds, project=src_creds.project_id)"
   ]
  },
  {
   "cell_type": "code",
   "execution_count": 35,
   "id": "dafa5811-c77a-4f92-a9b6-7d9f7807bbd3",
   "metadata": {},
   "outputs": [],
   "source": [
    "dataset_names = []\n",
    "for datasets in src_client.list_datasets():\n",
    "    # save under a plan\n",
    "    dataset_names.append(f'{datasets.project}.{datasets.dataset_id}')"
   ]
  },
  {
   "cell_type": "code",
   "execution_count": 37,
   "id": "ccfd0666-a4b8-4f6e-9a3b-4e96a663d03d",
   "metadata": {},
   "outputs": [
    {
     "data": {
      "text/plain": [
       "34"
      ]
     },
     "execution_count": 37,
     "metadata": {},
     "output_type": "execute_result"
    }
   ],
   "source": [
    "len(dataset_names)"
   ]
  },
  {
   "cell_type": "code",
   "execution_count": 40,
   "id": "1e6f3b42-f82d-4be1-84cb-2f5c790fbaf4",
   "metadata": {},
   "outputs": [
    {
     "name": "stdout",
     "output_type": "stream",
     "text": [
      "data-analytics-ns\n"
     ]
    }
   ],
   "source": [
    "for projects in src_client.list_projects():\n",
    "    print(projects.project_id)"
   ]
  },
  {
   "cell_type": "code",
   "execution_count": 43,
   "id": "5511ae61-1aac-4be9-a09e-b0c6efdc21a8",
   "metadata": {},
   "outputs": [
    {
     "name": "stdout",
     "output_type": "stream",
     "text": [
      "data-analytics-ns:course15.cc_funnel\n",
      "data-analytics-ns:course15.cc_funnel_kpi\n",
      "data-analytics-ns:course15.cc_funnel_local\n",
      "data-analytics-ns:course15.cc_parcel\n",
      "data-analytics-ns:course15.cc_parcel_kpi\n",
      "data-analytics-ns:course15.cc_parcel_kpi_formatted\n",
      "data-analytics-ns:course15.cc_parcel_kpi_global\n",
      "data-analytics-ns:course15.cc_parcel_kpi_month\n",
      "data-analytics-ns:course15.cc_parcel_kpi_priority\n",
      "data-analytics-ns:course15.cc_parcel_kpi_priority_by_ratio\n",
      "data-analytics-ns:course15.cc_parcel_kpi_transporter\n",
      "data-analytics-ns:course15.cc_parcel_product\n",
      "data-analytics-ns:course15.circle_sales\n",
      "data-analytics-ns:course15.circle_sales_daily\n",
      "data-analytics-ns:course15.circle_stock\n",
      "data-analytics-ns:course15.circle_stock_cat\n",
      "data-analytics-ns:course15.circle_stock_copy\n",
      "data-analytics-ns:course15.circle_stock_d7_ch2\n",
      "data-analytics-ns:course15.circle_stock_kpi\n",
      "data-analytics-ns:course15.circle_stock_kpi_top\n",
      "data-analytics-ns:course15.circle_stock_model_type\n",
      "data-analytics-ns:course15.circle_stock_name\n",
      "data-analytics-ns:course15.circle_stock_name_view\n",
      "data-analytics-ns:course15.d11_circle_stock_cat\n",
      "data-analytics-ns:course15.d11_circle_stock_kpi_view\n",
      "data-analytics-ns:course15.d11_circle_stock_name_view\n",
      "data-analytics-ns:course15.d9_cc_parcel\n",
      "data-analytics-ns:course15.d9_cc_parcel_aggfinal\n",
      "data-analytics-ns:course15.d9_cc_parcel_join\n",
      "data-analytics-ns:course15.d9_cc_parcel_product\n",
      "data-analytics-ns:course15.d9_cc_sales\n",
      "data-analytics-ns:course15.d9_cc_sales_aggfinal\n",
      "data-analytics-ns:course15.d9_cc_stock\n",
      "data-analytics-ns:course15.gwz_orders_17\n",
      "data-analytics-ns:course15.gwz_sales\n",
      "data-analytics-ns:course15.gwz_sales_category\n",
      "data-analytics-ns:course15.stock_updated\n",
      "data-analytics-ns:course15.top_products\n",
      "data-analytics-ns:course15.view_circle_stock\n"
     ]
    }
   ],
   "source": [
    "# for dataset in dataset_names:\n",
    "for table in src_client.list_tables('data-analytics-ns.course15'):\n",
    "    print(table.full_table_id)"
   ]
  },
  {
   "cell_type": "code",
   "execution_count": 44,
   "id": "971329c6-f7ee-4761-98ef-c65c958c6985",
   "metadata": {},
   "outputs": [
    {
     "data": {
      "text/plain": [
       "<google.cloud.bigquery.table.RowIterator at 0x108084ad0>"
      ]
     },
     "execution_count": 44,
     "metadata": {},
     "output_type": "execute_result"
    }
   ],
   "source": [
    "src_client.query_and_wait('select * from data-analytics-ns.course15.cc_parcel_kpi_global')"
   ]
  },
  {
   "cell_type": "code",
   "execution_count": null,
   "id": "3de0432c-fbe8-443f-9943-8e27b83719dc",
   "metadata": {},
   "outputs": [],
   "source": []
  }
 ],
 "metadata": {
  "kernelspec": {
   "display_name": "Python (dsa)",
   "language": "python",
   "name": "dsa-ipykernel"
  },
  "language_info": {
   "codemirror_mode": {
    "name": "ipython",
    "version": 3
   },
   "file_extension": ".py",
   "mimetype": "text/x-python",
   "name": "python",
   "nbconvert_exporter": "python",
   "pygments_lexer": "ipython3",
   "version": "3.13.2"
  }
 },
 "nbformat": 4,
 "nbformat_minor": 5
}
